{
  "nbformat": 4,
  "nbformat_minor": 0,
  "metadata": {
    "colab": {
      "provenance": [],
      "authorship_tag": "ABX9TyPxmqj/AQZtv0q/Z2HlOJQY",
      "include_colab_link": true
    },
    "kernelspec": {
      "name": "python3",
      "display_name": "Python 3"
    },
    "language_info": {
      "name": "python"
    }
  },
  "cells": [
    {
      "cell_type": "markdown",
      "metadata": {
        "id": "view-in-github",
        "colab_type": "text"
      },
      "source": [
        "<a href=\"https://colab.research.google.com/github/Jignesh280203/Allinonewebsite/blob/main/Untitled2.ipynb\" target=\"_parent\"><img src=\"https://colab.research.google.com/assets/colab-badge.svg\" alt=\"Open In Colab\"/></a>"
      ]
    },
    {
      "cell_type": "code",
      "execution_count": 12,
      "metadata": {
        "colab": {
          "base_uri": "https://localhost:8080/"
        },
        "id": "3Qyfh63RNEo5",
        "outputId": "4f982a23-aebd-42b4-ecaf-5a522232b31e"
      },
      "outputs": [
        {
          "output_type": "stream",
          "name": "stdout",
          "text": [
            "pcu\n",
            "58\n",
            "the college_name and roll_no of aditya is pcu and 58\n",
            "None\n"
          ]
        }
      ],
      "source": [
        "class aditya:\n",
        "  def __init__(self,college_name,roll_no):\n",
        "    self.college_name = college_name\n",
        "    self.roll_no = roll_no\n",
        "  def adityas_details(self):\n",
        "    print(f\"the college_name and roll_no of aditya is {self.college_name} and {self.roll_no}\")\n",
        "\n",
        "my_details = aditya(\"pcu\",58)\n",
        "print(my_details.college_name)\n",
        "print(my_details.roll_no)\n",
        "print(my_details.adityas_details())"
      ]
    },
    {
      "cell_type": "code",
      "source": [
        "class mycar:\n",
        "  def __init__(self,name):\n",
        "    self.name = name\n",
        "  def mycarname(self):\n",
        "    print(f\"the name of car is {self.name}\")\n",
        "\n",
        "class mycaryear(mycar):\n",
        "  def __init__(self,name,year):\n",
        "    super().__init__(name)\n",
        "    self.year=year\n",
        "  def mycaryeardetails(self):\n",
        "    print(f\"the name and year of car is {self.name} and its model year is {self.year}\")\n",
        "\n",
        "mycardetails = mycaryear(\"toyota\",2021)\n",
        "mycardetails.mycarname()\n",
        "mycardetails.mycaryeardetails()"
      ],
      "metadata": {
        "colab": {
          "base_uri": "https://localhost:8080/"
        },
        "id": "ElQyri5VO7xt",
        "outputId": "8598ce04-2978-4e3c-8071-286bf7b64c17"
      },
      "execution_count": 28,
      "outputs": [
        {
          "output_type": "stream",
          "name": "stdout",
          "text": [
            "the name of car is toyota\n",
            "the name and year of car is toyota and its model year is 2021\n"
          ]
        }
      ]
    },
    {
      "cell_type": "code",
      "source": [
        "class car:\n",
        "  def __init__(self,brand,model):\n",
        "    self.brand=brand\n",
        "    self.model=model\n",
        "  def move(self):\n",
        "    print(\"drive\")\n",
        "class boat:\n",
        "  def __init__(self,brand,model):\n",
        "    self.brand=brand\n",
        "    self.model=model\n",
        "  def move(self):\n",
        "    print(\"sail\")\n",
        "class plane:\n",
        "  def __init__(self,brand,model):\n",
        "    self.brand=brand\n",
        "    self.model=model\n",
        "  def move(self):\n",
        "    print(\"fly\")\n",
        "\n",
        "mycar = car(\"toyota\",\"legender\")\n",
        "myboat = boat(\"queen\",\"27400\")\n",
        "myplane = plane(\"boeing\",\"473\")\n",
        "for x in (mycar,myboat,myplane):\n",
        "  x.move()\n",
        "\n"
      ],
      "metadata": {
        "colab": {
          "base_uri": "https://localhost:8080/"
        },
        "id": "PcKhrP-PXkgh",
        "outputId": "4daa225b-d305-48b6-da8e-b75780ac50b2"
      },
      "execution_count": 34,
      "outputs": [
        {
          "output_type": "stream",
          "name": "stdout",
          "text": [
            "drive\n",
            "sail\n",
            "fly\n"
          ]
        }
      ]
    },
    {
      "cell_type": "code",
      "source": [
        "f = open(\"demo.txt\",\"w\")\n",
        "print(f)"
      ],
      "metadata": {
        "colab": {
          "base_uri": "https://localhost:8080/"
        },
        "id": "BYGBDG_wiofX",
        "outputId": "283e1fa0-8e53-4e0d-91d4-f390e8d9e29b"
      },
      "execution_count": 35,
      "outputs": [
        {
          "output_type": "stream",
          "name": "stdout",
          "text": [
            "<_io.TextIOWrapper name='demo.txt' mode='w' encoding='UTF-8'>\n"
          ]
        }
      ]
    },
    {
      "cell_type": "code",
      "source": [],
      "metadata": {
        "id": "WRrrUt0TjEZ1"
      },
      "execution_count": null,
      "outputs": []
    }
  ]
}